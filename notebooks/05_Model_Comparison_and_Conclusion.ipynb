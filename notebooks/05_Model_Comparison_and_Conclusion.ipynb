{
 "cells": [
  {
   "cell_type": "markdown",
   "id": "dd099022",
   "metadata": {},
   "source": [
    "# Cuaderno 5: Análisis Comparativo, Selección de Modelo y Conclusiones\n",
    "\n",
    "**Autor:** Gabriel Murillo\n",
    "**Fecha:** 24 de julio de 2025\n",
    "\n",
    "**Objetivo:** Este notebook consolida los resultados de los tres modelos desarrollados para la clasificación de sonidos respiratorios. Se realiza un análisis comparativo para seleccionar el modelo con el mejor rendimiento y se exploran análisis avanzados sobre el modelo ganador. Finalmente, se presentan las conclusiones del proyecto y se delinean los próximos pasos.\n",
    "\n",
    "---\n"
   ]
  },
  {
   "cell_type": "code",
   "execution_count": 1,
   "id": "05702e0f",
   "metadata": {},
   "outputs": [],
   "source": [
    "import pandas as pd\n",
    "import numpy as np\n",
    "import matplotlib.pyplot as plt\n",
    "import seaborn as sns\n",
    "from IPython.display import display\n",
    "\n",
    "# --- Configuración de Estilo ---\n",
    "sns.set_theme(style=\"whitegrid\")\n",
    "# Aumentar el tamaño de fuente por defecto para los gráficos\n",
    "plt.rcParams.update({'font.size': 12})\n"
   ]
  },
  {
   "cell_type": "markdown",
   "id": "b05f0f35",
   "metadata": {},
   "source": [
    "## 1. Resumen Cuantitativo de Modelos\n",
    "\n",
    "El primer paso es consolidar las métricas de rendimiento clave de cada uno de los modelos entrenados en una tabla comparativa. Esto nos permite una evaluación objetiva y directa de su eficacia.\n",
    "\n",
    "---"
   ]
  },
  {
   "cell_type": "code",
   "execution_count": 4,
   "id": "8b506ab7",
   "metadata": {},
   "outputs": [
    {
     "name": "stdout",
     "output_type": "stream",
     "text": [
      "--- Tabla Comparativa de Modelos ---\n"
     ]
    },
    {
     "data": {
      "text/html": [
       "<style type=\"text/css\">\n",
       "#T_02e2d_row0_col1 {\n",
       "  background-color: #2c944c;\n",
       "  color: #f1f1f1;\n",
       "}\n",
       "#T_02e2d_row0_col2, #T_02e2d_row2_col1, #T_02e2d_row2_col2, #T_02e2d_row2_col3, #T_02e2d_row2_col4 {\n",
       "  background-color: #00441b;\n",
       "  color: #f1f1f1;\n",
       "}\n",
       "#T_02e2d_row0_col3, #T_02e2d_row1_col1, #T_02e2d_row1_col2, #T_02e2d_row1_col4 {\n",
       "  background-color: #f7fcf5;\n",
       "  color: #000000;\n",
       "}\n",
       "#T_02e2d_row0_col4 {\n",
       "  background-color: #55b567;\n",
       "  color: #f1f1f1;\n",
       "}\n",
       "#T_02e2d_row1_col3 {\n",
       "  background-color: #dbf1d6;\n",
       "  color: #000000;\n",
       "}\n",
       "</style>\n",
       "<table id=\"T_02e2d\">\n",
       "  <thead>\n",
       "    <tr>\n",
       "      <th class=\"blank level0\" >&nbsp;</th>\n",
       "      <th id=\"T_02e2d_level0_col0\" class=\"col_heading level0 col0\" >Modelo</th>\n",
       "      <th id=\"T_02e2d_level0_col1\" class=\"col_heading level0 col1\" >F1-Score Ponderado</th>\n",
       "      <th id=\"T_02e2d_level0_col2\" class=\"col_heading level0 col2\" >Accuracy</th>\n",
       "      <th id=\"T_02e2d_level0_col3\" class=\"col_heading level0 col3\" >Recall (Healthy)</th>\n",
       "      <th id=\"T_02e2d_level0_col4\" class=\"col_heading level0 col4\" >Recall (Pneumonia)</th>\n",
       "      <th id=\"T_02e2d_level0_col5\" class=\"col_heading level0 col5\" >Interpretabilidad</th>\n",
       "      <th id=\"T_02e2d_level0_col6\" class=\"col_heading level0 col6\" >Complejidad</th>\n",
       "    </tr>\n",
       "  </thead>\n",
       "  <tbody>\n",
       "    <tr>\n",
       "      <th id=\"T_02e2d_level0_row0\" class=\"row_heading level0 row0\" >0</th>\n",
       "      <td id=\"T_02e2d_row0_col0\" class=\"data row0 col0\" >Baseline: Random Forest</td>\n",
       "      <td id=\"T_02e2d_row0_col1\" class=\"data row0 col1\" >0.890000</td>\n",
       "      <td id=\"T_02e2d_row0_col2\" class=\"data row0 col2\" >0.910000</td>\n",
       "      <td id=\"T_02e2d_row0_col3\" class=\"data row0 col3\" >0.360000</td>\n",
       "      <td id=\"T_02e2d_row0_col4\" class=\"data row0 col4\" >0.440000</td>\n",
       "      <td id=\"T_02e2d_row0_col5\" class=\"data row0 col5\" >Alta</td>\n",
       "      <td id=\"T_02e2d_row0_col6\" class=\"data row0 col6\" >Baja</td>\n",
       "    </tr>\n",
       "    <tr>\n",
       "      <th id=\"T_02e2d_level0_row1\" class=\"row_heading level0 row1\" >1</th>\n",
       "      <td id=\"T_02e2d_row1_col0\" class=\"data row1 col0\" >1D-CNN (Regularizada)</td>\n",
       "      <td id=\"T_02e2d_row1_col1\" class=\"data row1 col1\" >0.840000</td>\n",
       "      <td id=\"T_02e2d_row1_col2\" class=\"data row1 col2\" >0.860000</td>\n",
       "      <td id=\"T_02e2d_row1_col3\" class=\"data row1 col3\" >0.410000</td>\n",
       "      <td id=\"T_02e2d_row1_col4\" class=\"data row1 col4\" >0.140000</td>\n",
       "      <td id=\"T_02e2d_row1_col5\" class=\"data row1 col5\" >Baja</td>\n",
       "      <td id=\"T_02e2d_row1_col6\" class=\"data row1 col6\" >Media</td>\n",
       "    </tr>\n",
       "    <tr>\n",
       "      <th id=\"T_02e2d_level0_row2\" class=\"row_heading level0 row2\" >2</th>\n",
       "      <td id=\"T_02e2d_row2_col0\" class=\"data row2 col0\" >2D-CNN (Transfer Learning)</td>\n",
       "      <td id=\"T_02e2d_row2_col1\" class=\"data row2 col1\" >0.910000</td>\n",
       "      <td id=\"T_02e2d_row2_col2\" class=\"data row2 col2\" >0.910000</td>\n",
       "      <td id=\"T_02e2d_row2_col3\" class=\"data row2 col3\" >0.660000</td>\n",
       "      <td id=\"T_02e2d_row2_col4\" class=\"data row2 col4\" >0.660000</td>\n",
       "      <td id=\"T_02e2d_row2_col5\" class=\"data row2 col5\" >Baja</td>\n",
       "      <td id=\"T_02e2d_row2_col6\" class=\"data row2 col6\" >Alta</td>\n",
       "    </tr>\n",
       "  </tbody>\n",
       "</table>\n"
      ],
      "text/plain": [
       "<pandas.io.formats.style.Styler at 0x266ffc4d310>"
      ]
     },
     "metadata": {},
     "output_type": "display_data"
    }
   ],
   "source": [
    "summary_data = {\n",
    "    'Modelo': [\n",
    "        'Baseline: Random Forest', \n",
    "        '1D-CNN (Regularizada)', \n",
    "        '2D-CNN (Transfer Learning)'\n",
    "    ],\n",
    "    'F1-Score Ponderado': [0.89, 0.84, 0.91],\n",
    "    'Accuracy': [0.91, 0.86, 0.91],\n",
    "    'Recall (Healthy)': [0.36, 0.41, 0.66],\n",
    "    'Recall (Pneumonia)': [0.44, 0.14, 0.66],\n",
    "    'Interpretabilidad': ['Alta', 'Baja', 'Baja'],\n",
    "    'Complejidad': ['Baja', 'Media', 'Alta']\n",
    "}\n",
    "\n",
    "summary_df = pd.DataFrame(summary_data)\n",
    "\n",
    "print(\"--- Tabla Comparativa de Modelos ---\")\n",
    "# Usamos un gradiente de color para resaltar los mejores valores\n",
    "display(summary_df.style.background_gradient(\n",
    "    cmap='Greens', subset=['F1-Score Ponderado', 'Accuracy', 'Recall (Healthy)', 'Recall (Pneumonia)']\n",
    "))\n"
   ]
  },
  {
   "cell_type": "markdown",
   "id": "be95029b",
   "metadata": {},
   "source": [
    "## 2. Veredicto: Selección del Modelo Ganador\n",
    "\n",
    "**Análisis:** Los resultados de la tabla anterior son concluyentes. Aunque el Random Forest estableció un baseline sólido, y la 1D-CNN fue un ejercicio importante en diagnóstico de sobreajuste, el modelo **2D-CNN con Transfer Learning** es superior en prácticamente todas las métricas clave. No solo alcanza el F1-score ponderado más alto (0.91), sino que, de manera crucial, mejora drásticamente el `recall` en clases minoritarias de gran importancia como `Healthy` (0.66) y `Pneumonia` (0.66).\n",
    "\n",
    "**Veredicto:** El modelo **2D-CNN (EfficientNet-B0) con Transfer Learning** es seleccionado como el modelo final para la fase de producción debido a su rendimiento superior y su mayor capacidad de generalización.\n",
    "\n",
    "---"
   ]
  },
  {
   "cell_type": "markdown",
   "id": "5ce37038",
   "metadata": {},
   "source": [
    "\n",
    "## 3. Análisis Profundo del Modelo Ganador (2D-CNN)\n",
    "\n",
    "Ahora que hemos seleccionado un ganador, realizaremos un análisis más profundo sobre su comportamiento utilizando las técnicas avanzadas de visualización e interpretabilidad que desarrollamos.\n",
    "\n",
    "### 3.1 Curvas ROC-AUC\n",
    "Las curvas ROC-AUC nos permiten evaluar la capacidad de discriminación del modelo para cada clase.\n",
    "\n",
    "\n",
    "\n",
    "**Análisis de ROC-AUC:** La gráfica muestra un rendimiento excepcional. Todas las clases principales tienen un Área Bajo la Curva (AUC) superior a 0.95, destacando `Healthy` (AUC=1.00), `COPD` (AUC=0.98) y `Pneumonia` (AUC=0.97). Esto indica que el modelo posee una capacidad de discriminación casi perfecta, separando con gran confianza las clases entre sí.\n",
    "\n",
    "### 3.2 Análisis Cualitativo de Errores\n",
    "El análisis de los errores más seguros del modelo nos da pistas sobre sus confusiones restantes.\n",
    "\n",
    "\n",
    "\n",
    "**Análisis de Errores:** La tabla de los 5 errores con mayor confianza muestra que, aunque el sesgo se ha reducido, la confusión principal del modelo sigue siendo clasificar erróneamente otras patologías como `COPD`. Esto sugiere que las características visuales de los espectrogramas de `COPD` son extremadamente dominantes y comparten similitudes con las de otras enfermedades en casos difíciles.\n",
    "\n",
    "---\n",
    "\n",
    "## 4. Resumen Ejecutivo y Conclusiones\n",
    "\n",
    "Este proyecto se propuso desarrollar un sistema de Machine Learning para la clasificación de sonidos respiratorios. Se iteró a través de tres arquitecturas de complejidad creciente: un baseline de Random Forest, una 1D-CNN sobre audio crudo y una 2D-CNN con Transfer Learning sobre espectrogramas.\n",
    "\n",
    "**El modelo final, basado en `EfficientNet-B0` pre-entrenado, ha demostrado ser altamente efectivo**, alcanzando un **F1-score ponderado de 0.91** y mejorando drásticamente la capacidad de detección de clases minoritarias clave, como `Healthy` y `Pneumonia`, con un `recall` del 66% para ambas.\n",
    "\n",
    "Se diagnosticó y corrigió exitosamente un problema de sobreajuste en el modelo 1D-CNN mediante técnicas de regularización, y se realizaron análisis de interpretabilidad (Grad-CAM) y de errores sobre el modelo ganador.\n",
    "\n",
    "El éxito de la estrategia de Transfer Learning valida el enfoque de tratar el audio como una imagen y sienta las bases para una herramienta de monitoreo no invasiva y de bajo costo con un alto potencial de impacto clínico.\n",
    "\n",
    "---\n",
    "\n",
    "## 5. Trabajo Futuro (Future Work)\n",
    "\n",
    "Para continuar mejorando este proyecto, se proponen las siguientes líneas de trabajo:\n",
    "\n",
    "* **Modelo de Vanguardia (Tier 2):** Implementar un **Audio Spectrogram Transformer (AST)** pre-entrenado en AudioSet para comparar su rendimiento contra la 2D-CNN y potencialmente alcanzar un nuevo estado del arte.\n",
    "* **Mejora de Datos:** Implementar un pipeline para la recopilación y etiquetado de más datos, con un enfoque especial en las clases minoritarias que aún presentan un rendimiento bajo, como `Bronchiolitis`.\n",
    "* **Enfoque de Interpretabilidad:** Desarrollar el modelo de **Deconstrucción Bio-Acústica** (basado en HPSS y características físicas) como una alternativa de \"caja de cristal\" que priorice la interpretabilidad de las predicciones.\n",
    "* **Despliegue en la Nube:** Desplegar el contenedor Docker de la API en un servicio administrado como **AWS Fargate** o **Google Cloud Run** para crear un servicio web escalable y de alta disponibilidad.\n",
    "* **Ensamblado de Modelos:** Implementar un ensamblado que combine las predicciones del Random Forest y la 2D-CNN para potencialmente mejorar la robustez del sistema final."
   ]
  },
  {
   "cell_type": "markdown",
   "id": "d747b062",
   "metadata": {},
   "source": []
  }
 ],
 "metadata": {
  "kernelspec": {
   "display_name": "venv",
   "language": "python",
   "name": "python3"
  },
  "language_info": {
   "codemirror_mode": {
    "name": "ipython",
    "version": 3
   },
   "file_extension": ".py",
   "mimetype": "text/x-python",
   "name": "python",
   "nbconvert_exporter": "python",
   "pygments_lexer": "ipython3",
   "version": "3.13.5"
  }
 },
 "nbformat": 4,
 "nbformat_minor": 5
}
